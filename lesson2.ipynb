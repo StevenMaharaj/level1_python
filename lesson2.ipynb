{
 "cells": [
  {
   "cell_type": "markdown",
   "metadata": {},
   "source": [
    "# python types\n",
    "Python has several built-in data types, which are used to store values in different forms. Here’s an overview of the most common types:\n",
    "\n",
    "### 1. **Numeric Types**:\n",
    "\n",
    "* **int**: Represents integer values (whole numbers).\n",
    "\n",
    "  * Example: `x = 42`\n",
    "* **float**: Represents floating-point numbers (decimal values).\n",
    "\n",
    "  * Example: `y = 3.14`\n",
    "* **complex**: Represents complex numbers, with a real and imaginary part.\n",
    "\n",
    "  * Example: `z = 1 + 2j`\n",
    "\n",
    "### 2. **Sequence Types**:\n",
    "\n",
    "* **list**: Ordered, mutable collection of elements.\n",
    "\n",
    "  * Example: `my_list = [1, 2, 3]`\n",
    "* **tuple**: Ordered, immutable collection of elements.\n",
    "\n",
    "  * Example: `my_tuple = (1, 2, 3)`\n",
    "* **range**: Represents a sequence of numbers, typically used for iteration.\n",
    "\n",
    "  * Example: `my_range = range(5)` (generates numbers 0 to 4)\n",
    "\n",
    "### 3. **Text Type**:\n",
    "\n",
    "* **str**: Represents a sequence of characters (string).\n",
    "\n",
    "  * Example: `name = \"Python\"`\n",
    "\n",
    "### 4. **Mapping Type**:\n",
    "\n",
    "* **dict**: An unordered collection of key-value pairs.\n",
    "\n",
    "  * Example: `my_dict = {'a': 1, 'b': 2}`\n",
    "\n",
    "### 5. **Set Types**:\n",
    "\n",
    "* **set**: Unordered collection of unique elements.\n",
    "\n",
    "  * Example: `my_set = {1, 2, 3}`\n",
    "* **frozenset**: Immutable version of a set.\n",
    "\n",
    "  * Example: `my_frozenset = frozenset([1, 2, 3])`\n",
    "\n",
    "### 6. **Boolean Type**:\n",
    "\n",
    "* **bool**: Represents Boolean values, either `True` or `False`.\n",
    "\n",
    "  * Example: `is_active = True`\n",
    "\n",
    "### 7. **Binary Types**:\n",
    "\n",
    "* **bytes**: Immutable sequence of bytes.\n",
    "\n",
    "  * Example: `my_bytes = b'hello'`\n",
    "* **bytearray**: Mutable sequence of bytes.\n",
    "\n",
    "  * Example: `my_bytearray = bytearray([65, 66, 67])`\n",
    "* **memoryview**: Provides a view of an object’s memory without copying the data.\n",
    "\n",
    "  * Example: `my_memoryview = memoryview(b'hello')`\n",
    "\n",
    "### 8. **None Type**:\n",
    "\n",
    "* **None**: A special constant representing the absence of a value or a null value.\n",
    "\n",
    "  * Example: `x = None`"
   ]
  },
  {
   "cell_type": "markdown",
   "metadata": {},
   "source": [
    "# Lesson 2  Primitive Data Types — `str`, `int`, `float`\n",
    "\n",
    "**Objectives**\n",
    "\n",
    "1. Recognise core types and why they matter.\n",
    "2. Perform arithmetic with `int` / `float`.\n",
    "3. Slice and format strings.\n",
    "4. Inspect types with `type()`."
   ]
  },
  {
   "cell_type": "code",
   "execution_count": 5,
   "metadata": {},
   "outputs": [
    {
     "name": "stdout",
     "output_type": "stream",
     "text": [
      "Ada Lovelace is 30 and the BMI is 23.5\n"
     ]
    }
   ],
   "source": [
    "name = \"Ada Lovelace\"      # str\n",
    "age  = 30                  # int\n",
    "price = 19.95              # float\n",
    "bmi  = 68 / (1.7 ** 2)     # float math\n",
    "print(f\"{name} is {age} and the BMI is {bmi:.1f}\")"
   ]
  }
 ],
 "metadata": {
  "kernelspec": {
   "display_name": ".venv",
   "language": "python",
   "name": "python3"
  },
  "language_info": {
   "codemirror_mode": {
    "name": "ipython",
    "version": 3
   },
   "file_extension": ".py",
   "mimetype": "text/x-python",
   "name": "python",
   "nbconvert_exporter": "python",
   "pygments_lexer": "ipython3",
   "version": "3.13.2"
  }
 },
 "nbformat": 4,
 "nbformat_minor": 2
}
