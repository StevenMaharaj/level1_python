{
 "cells": [
  {
   "cell_type": "markdown",
   "metadata": {},
   "source": [
    "# Capstone Project"
   ]
  },
  {
   "cell_type": "markdown",
   "metadata": {},
   "source": [
    "## Capstone Project – **Number Guessing Game**\n",
    "\n",
    "Integrates input/output, data types, loops, conditionals, and collections.\n",
    "\n",
    "**Specs**\n",
    "\n",
    "* Randomly choose an integer 1-100.\n",
    "* Player guesses; program replies *Too high / Too low / Correct*.\n",
    "* Track the number of attempts in a list; show the history on success.\n",
    "* Limit to 7 tries; reveal the number if the player loses."
   ]
  },
  {
   "cell_type": "code",
   "execution_count": null,
   "metadata": {},
   "outputs": [],
   "source": [
    "import random\n",
    "\n",
    "def guess_the_number():\n",
    "    secret = random.randint(1, 100)\n",
    "    attempts = []\n",
    "\n",
    "    print(\"I'm thinking of a number between 1 and 100.\")\n",
    "    print(\"You have 7 tries to guess it.\\n\")\n",
    "\n",
    "    for turn in range(1, 8):\n",
    "        # Prompt and validate\n",
    "        try:\n",
    "            guess = int(input(f\"Attempt {turn}/7 — your guess: \").strip())\n",
    "        except ValueError:\n",
    "            print(\"  ❗️ Please enter a valid integer.\\n\")\n",
    "            continue\n",
    "\n",
    "        # Record and compare\n",
    "        attempts.append(guess)\n",
    "        if guess < secret:\n",
    "            print(\"  Too low!\\n\")\n",
    "        elif guess > secret:\n",
    "            print(\"  Too high!\\n\")\n",
    "        else:\n",
    "            print(f\"🎉 Correct! You got it in {turn} {'try' if turn == 1 else 'tries'}.\\n\")\n",
    "            print(\"Your guesses were:\", attempts)\n",
    "            break\n",
    "    else:\n",
    "        # Executed if loop finishes without break\n",
    "        print(f\"😢 You've used all 7 tries. The number was {secret}.\")\n",
    "        print(\"Your guesses were:\", attempts)\n",
    "\n",
    "if __name__ == \"__main__\":\n",
    "    guess_the_number()\n"
   ]
  }
 ],
 "metadata": {
  "kernelspec": {
   "display_name": ".venv",
   "language": "python",
   "name": "python3"
  },
  "language_info": {
   "name": "python",
   "version": "3.13.2"
  }
 },
 "nbformat": 4,
 "nbformat_minor": 2
}
