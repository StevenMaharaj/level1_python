{
 "cells": [
  {
   "cell_type": "markdown",
   "metadata": {},
   "source": [
    "# Functions"
   ]
  },
  {
   "cell_type": "markdown",
   "metadata": {},
   "source": [
    "1. **Defining a Function**: Functions in Python are defined using the `def` keyword, followed by the function name and parentheses `( )`. Any parameters (inputs) to the function are placed within the parentheses.\n",
    "\n",
    "   ```python\n",
    "   def greet(name):\n",
    "       print(f\"Hello, {name}!\")\n",
    "   ```\n",
    "\n",
    "2. **Function Body**: The function body contains the code that defines what the function does. It is indented relative to the `def` statement. You can have any number of statements inside a function.\n",
    "\n",
    "   ```python\n",
    "   def add(a, b):\n",
    "       result = a + b\n",
    "       return result\n",
    "   ```\n",
    "\n",
    "3. **Parameters and Arguments**: Parameters are variables listed in the function definition. Arguments are the actual values passed into the function when it is called.\n",
    "\n",
    "   ```python\n",
    "   def multiply(x, y):\n",
    "       return x * y\n",
    "\n",
    "   product = multiply(3, 5)  # Here, 3 and 5 are arguments\n",
    "   ```\n",
    "\n",
    "4. **Return Statement**: Functions can optionally return a value using the `return` statement. This value can then be used elsewhere in your code.\n",
    "\n",
    "   ```python\n",
    "   def square(x):\n",
    "       return x ** 2\n",
    "   ```\n",
    "\n",
    "5. **Calling a Function**: To execute a function, you \"call\" it by using its name followed by parentheses and providing any necessary arguments.\n",
    "\n",
    "   ```python\n",
    "   greet(\"Alice\")  # Output: Hello, Alice!\n",
    "   ```\n",
    "\n",
    "6. **Scope**: Variables defined inside a function are scoped locally to that function, meaning they cannot be accessed from outside the function unless explicitly returned.\n",
    "\n",
    "   ```python\n",
    "   def outer_function():\n",
    "       x = 10  # Local variable to outer_function\n",
    "\n",
    "       def inner_function():\n",
    "           print(x)  # Can access x from outer_function\n",
    "\n",
    "       inner_function()\n",
    "\n",
    "   outer_function()  # Output: 10\n",
    "   ```"
   ]
  },
  {
   "cell_type": "markdown",
   "metadata": {},
   "source": [
    "# Practice\n",
    "* Build a simple temperature converter (°C ↔ °F).\n",
    "* Call `type()` on every variable and inspect the output."
   ]
  },
  {
   "cell_type": "code",
   "execution_count": 1,
   "metadata": {},
   "outputs": [
    {
     "name": "stdout",
     "output_type": "stream",
     "text": [
      "25°C is equal to 77.0°F\n",
      "Type of celsius variable: <class 'int'>\n",
      "Type of fahrenheit variable: <class 'float'>\n",
      "77.0°F is equal to 25.0°C\n",
      "Type of converted_celsius variable: <class 'float'>\n"
     ]
    }
   ],
   "source": [
    "def celsius_to_fahrenheit(celsius):\n",
    "    fahrenheit = (celsius * 9/5) + 32\n",
    "    return fahrenheit\n",
    "\n",
    "def fahrenheit_to_celsius(fahrenheit):\n",
    "    celsius = (fahrenheit - 32) * 5/9\n",
    "    return celsius\n",
    "\n",
    "# Example usage:\n",
    "celsius = 25\n",
    "fahrenheit = celsius_to_fahrenheit(celsius)\n",
    "print(f\"{celsius}°C is equal to {fahrenheit}°F\")\n",
    "print(f\"Type of celsius variable: {type(celsius)}\")\n",
    "print(f\"Type of fahrenheit variable: {type(fahrenheit)}\")\n",
    "\n",
    "# Convert back to Celsius\n",
    "converted_celsius = fahrenheit_to_celsius(fahrenheit)\n",
    "print(f\"{fahrenheit}°F is equal to {converted_celsius}°C\")\n",
    "print(f\"Type of converted_celsius variable: {type(converted_celsius)}\")"
   ]
  }
 ],
 "metadata": {
  "kernelspec": {
   "display_name": ".venv",
   "language": "python",
   "name": "python3"
  },
  "language_info": {
   "codemirror_mode": {
    "name": "ipython",
    "version": 3
   },
   "file_extension": ".py",
   "mimetype": "text/x-python",
   "name": "python",
   "nbconvert_exporter": "python",
   "pygments_lexer": "ipython3",
   "version": "3.13.2"
  }
 },
 "nbformat": 4,
 "nbformat_minor": 2
}
